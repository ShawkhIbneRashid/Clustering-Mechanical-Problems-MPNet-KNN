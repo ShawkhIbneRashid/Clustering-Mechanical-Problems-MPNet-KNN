{
 "cells": [
  {
   "cell_type": "code",
   "execution_count": 1,
   "metadata": {
    "executionInfo": {
     "elapsed": 242,
     "status": "ok",
     "timestamp": 1635086489676,
     "user": {
      "displayName": "Ratul Rashid",
      "photoUrl": "https://lh3.googleusercontent.com/a-/AOh14GgpHTdFkEyevPZKaoWAwBI68xD3YEZYfJwE4Tdmhw=s64",
      "userId": "04963861650832575909"
     },
     "user_tz": 240
    },
    "id": "WREefX52COhR"
   },
   "outputs": [],
   "source": [
    "#importing necessary libraries\n",
    "import pandas as pd\n",
    "import matplotlib.pyplot as plt\n",
    "import numpy as np\n",
    "import re\n",
    "import string\n",
    "\n",
    "from nltk.corpus import stopwords\n",
    "from nltk.stem import WordNetLemmatizer\n",
    "from textblob import Word\n",
    "\n",
    "from sentence_transformers import SentenceTransformer\n",
    "\n",
    "from scipy.cluster import  hierarchy\n",
    "from sklearn.cluster import KMeans\n",
    "from sklearn.decomposition import PCA"
   ]
  },
  {
   "cell_type": "code",
   "execution_count": 2,
   "metadata": {
    "executionInfo": {
     "elapsed": 1555,
     "status": "ok",
     "timestamp": 1635086503097,
     "user": {
      "displayName": "Ratul Rashid",
      "photoUrl": "https://lh3.googleusercontent.com/a-/AOh14GgpHTdFkEyevPZKaoWAwBI68xD3YEZYfJwE4Tdmhw=s64",
      "userId": "04963861650832575909"
     },
     "user_tz": 240
    },
    "id": "mZnC7DIiLd3t"
   },
   "outputs": [],
   "source": [
    "#clas to load the dataset and perform some data preprocessing. This class also outputs the number of unique uids in the dataset\n",
    "class Load_Preprocess():\n",
    "\n",
    "  def __init__(self,directory):\n",
    "    self.directory = directory\n",
    "\n",
    "  def load_data(self):\n",
    "    df = pd.read_csv(self.directory)\n",
    "    df.rename(columns={'Extracted problems':'extracted_problems'},inplace=True)\n",
    "    return df\n",
    "\n",
    "  def preprocess(self, df):\n",
    "    #making all the letters lowercase\n",
    "    df['extracted_problems'] = [text.lower() for text in df['extracted_problems']]\n",
    "\n",
    "    #removing punctuations\n",
    "    df['extracted_problems'] = df['extracted_problems'].apply(lambda x: re.sub('[%s]' % re.escape(string.punctuation), '' , x))\n",
    "\n",
    "    #removing stop words\n",
    "    stop = stopwords.words('english')\n",
    "    df['extracted_problems'] = df['extracted_problems'].apply(lambda x: \" \".join(x for x in x.split() if x not in stop))\n",
    "    \n",
    "    #performing lemmatization to change the words in their base forms\n",
    "    df['extracted_problems'] = df['extracted_problems'].apply(lambda x: \" \".join([Word(word).lemmatize() for word in x.split()]))\n",
    "\n",
    "    #removing extra spaces\n",
    "    df[\"extracted_problems\"] = df[\"extracted_problems\"].apply(lambda text: re.sub(' +', ' ', text))\n",
    "    return df\n",
    "\n",
    "  def unique_uid(self, df):\n",
    "    #finding the number of unique uid in the dataset\n",
    "    #all the uids are different from each other\n",
    "    #so I have considered the first 2 letters of all the uids\n",
    "    #as there are total 6 unique first two letters of the uid, considered 6 unique uid\n",
    "    #so all the records now belong to these 6 categories or labels or uids\n",
    "    #the next step is to cluster the respective records of these 6 labels\n",
    "    uid_2 = []\n",
    "    uid_2 = [i[0:2] for i in df['uid']]\n",
    "    uid_set = set(uid_2)\n",
    "    unique_uid = len(uid_set)\n",
    "    print('Unique uids are:')\n",
    "    print(uid_set)\n",
    "    print('Total number of unique uid: ' + str(unique_uid))\n"
   ]
  },
  {
   "cell_type": "code",
   "execution_count": 3,
   "metadata": {
    "executionInfo": {
     "elapsed": 222,
     "status": "ok",
     "timestamp": 1635093587049,
     "user": {
      "displayName": "Ratul Rashid",
      "photoUrl": "https://lh3.googleusercontent.com/a-/AOh14GgpHTdFkEyevPZKaoWAwBI68xD3YEZYfJwE4Tdmhw=s64",
      "userId": "04963861650832575909"
     },
     "user_tz": 240
    },
    "id": "0GhB2xbTU1PL"
   },
   "outputs": [],
   "source": [
    "#this class creates the sentence embeddings of the extracted_problems belonging to a particular label/uid\n",
    "class Sentence_Embedding():\n",
    "\n",
    "  def __init__(self, df, uid, model):\n",
    "    #uid will be either WO, DE, EP, US, JP or CN at a time\n",
    "    self.df = df\n",
    "    self.uid = uid\n",
    "    self.model = model\n",
    "\n",
    "  def uid_problem_pair(self):\n",
    "    #creating a dictionary of {uid (uid staring with either WO, DE, EP, US, JP or CN), extracted_problem}\n",
    "    dict_problems = {}\n",
    "    for i in range(len(self.df['uid'])):\n",
    "      if self.df['uid'][i][0:2] == self.uid:\n",
    "        dict_problems[self.df['uid'][i]] = self.df['extracted_problems'][i]\n",
    "    print('Number of records under uid starting with ' + self.uid + ' is ' + str(len(list(dict_problems.keys()))))\n",
    "    return dict_problems\n",
    "\n",
    "  def sentence_embed(self, dict_problems):\n",
    "    #sentence embedding using either BERT or MPNet\n",
    "    #a sentence is first converted to 512 tokens\n",
    "    #each token generates a vector of 768 values\n",
    "    #finally a pooling layer will convert a 512x768 tensor to (1x768) vector for each sentence\n",
    "\n",
    "    if self.model == 'bert':\n",
    "      model = SentenceTransformer('bert-base-nli-mean-tokens')\n",
    "      sentence_embeddings = model.encode(list(dict_problems.values()))\n",
    "\n",
    "    elif self.model == 'mpnet':\n",
    "      model = SentenceTransformer('sentence-transformers/all-mpnet-base-v2')\n",
    "      sentence_embeddings = model.encode(list(dict_problems.values()))\n",
    "    \n",
    "    print(\"Shape of \" + str(len(list(dict_problems.keys()))) + \" embedded sentences is \" + str(sentence_embeddings.shape))\n",
    "    return self.uid, sentence_embeddings\n",
    "\n"
   ]
  },
  {
   "cell_type": "code",
   "execution_count": 4,
   "metadata": {
    "executionInfo": {
     "elapsed": 224,
     "status": "ok",
     "timestamp": 1635094995837,
     "user": {
      "displayName": "Ratul Rashid",
      "photoUrl": "https://lh3.googleusercontent.com/a-/AOh14GgpHTdFkEyevPZKaoWAwBI68xD3YEZYfJwE4Tdmhw=s64",
      "userId": "04963861650832575909"
     },
     "user_tz": 240
    },
    "id": "u16e8maOqqrb"
   },
   "outputs": [],
   "source": [
    "#this class draws dendogram and kmeans clusters in a scatterplot for a particular type of uid(uid strating with either WO, DE, EP, US, JP or CN)\n",
    "class Clustering_Visualization():\n",
    "\n",
    "  def __init__(self, uid_sentence_embed_pair):\n",
    "\n",
    "    self.uid = uid_sentence_embed_pair[0]\n",
    "    self.embed_matrix = uid_sentence_embed_pair[1]\n",
    "    #setting the number of classes for each type of UID seperately for more use control\n",
    "    if uid_sentence_embed_pair[0] == 'WO':\n",
    "      self.clusters = 2\n",
    "    elif uid_sentence_embed_pair[0] == 'DE':\n",
    "      self.clusters = 4\n",
    "    elif uid_sentence_embed_pair[0] == 'EP':\n",
    "      self.clusters = 6\n",
    "    elif uid_sentence_embed_pair[0] == 'US':\n",
    "      self.clusters = 5\n",
    "    elif uid_sentence_embed_pair[0] == 'JP':\n",
    "      self.clusters = 2\n",
    "    elif uid_sentence_embed_pair[0] == 'CN':\n",
    "      self.clusters = 6\n",
    "    \n",
    "\n",
    "  def dendrogram_draw(self):\n",
    "\n",
    "    # Performs hierarchical/agglomerative clustering based on Ward variance minimization algorithm\n",
    "    hier_link = hierarchy.linkage(self.embed_matrix, method=\"average\", metric = \"cosine\")\n",
    "    print(\"Hierarchical clustering of records whose uid start with \" + self.uid)\n",
    "    plt.figure(figsize=(20, 20))\n",
    "    #labelList = range(1, 256)\n",
    "    dn = hierarchy.dendrogram(hier_link, orientation='right',\n",
    "                distance_sort='descending')\n",
    "\n",
    "    plt.title('Dendogram')\n",
    "    plt.ylabel('Cosine Similarity')\n",
    "    plt.show()\n",
    "  \n",
    "  def k_means_labels(self, uid_problem_pair):\n",
    "    #shows the cluster numbers of each record for a particular type( WO, DE, EP, US, JP or CN)\n",
    "    n_clusters = self.clusters\n",
    "    if self.uid == 'CN':\n",
    "      max_iter = 4000\n",
    "    elif self.uid == 'WO':\n",
    "      max_iter = 500\n",
    "    elif self.uid == 'DE':\n",
    "      max_iter = 2000\n",
    "    elif self.uid == 'EP':\n",
    "      max_iter = 4000\n",
    "    elif self.uid == 'US':\n",
    "      max_iter = 3000\n",
    "    elif self.uid == 'JP':\n",
    "      max_iter = 500\n",
    "    clf = KMeans(n_clusters=n_clusters, max_iter=max_iter,init = 'k-means++', n_init=1) \n",
    "    labels = clf.fit_predict(self.embed_matrix)\n",
    "    print(\"Printing the cluster labels for all the records whose uid start with \" + uid_sentence_embed_pair[0] + \" total record number under this category is \" + str(len(list(uid_problem_pair.keys()))) + \"\\n\") \n",
    "    print(labels) \n",
    "    for index, sentence in enumerate(list(uid_problem_pair.values())): \n",
    "      print(str(labels[index]) + \":  UID:\" + str(list(uid_problem_pair.keys())[index]) + \"     Problem:\" + str(sentence) )\n",
    "    return labels, clf\n",
    "\n",
    "  def k_means_clustering(self, labels, clf):\n",
    "    #clusters are plotted using Principal Component Analysis\n",
    "    print(\"Scatter plot for records whose uid start with \" + self.uid + \"\\n\")\n",
    "    pca = PCA(n_components=self.clusters).fit(self.embed_matrix) \n",
    "    coords = pca.transform(self.embed_matrix) \n",
    "    label_colors = [\"#2AB0E9\", \"#2BAF74\", \"#D7665E\", \"#CCCCCC\", \"#D2CA0D\", \"#522A64\", \"#A3DB05\", \"#FC6514\", \"#DAF7A6\" , \"#581845\"] \n",
    "    colors = [label_colors[i] for i in labels] \n",
    "    print(\"Records with their respective cluster labels are plotted using a Scatter plot.\" +\"\\n\"+ \"For dimentionality reduction of matrix containing sentence embeddings, we have used Principal Component Analysis.\" + \"\\n\" +\" X denotes cluster centers in the scatter plot.\" )\n",
    "    plt.scatter(coords[:, 0], coords[:, 1], c = colors) \n",
    "    centroids = clf.cluster_centers_ \n",
    "    centroid_coords = pca.transform(centroids) \n",
    "    plt.scatter(centroid_coords[:, 0], centroid_coords[:, 1], marker='X', s=200, linewidths=2, c='#444d61')\n",
    "    plt.show()"
   ]
  },
  {
   "cell_type": "code",
   "execution_count": 5,
   "metadata": {
    "executionInfo": {
     "elapsed": 488,
     "status": "ok",
     "timestamp": 1635086547290,
     "user": {
      "displayName": "Ratul Rashid",
      "photoUrl": "https://lh3.googleusercontent.com/a-/AOh14GgpHTdFkEyevPZKaoWAwBI68xD3YEZYfJwE4Tdmhw=s64",
      "userId": "04963861650832575909"
     },
     "user_tz": 240
    },
    "id": "_ueDTG6ZgvbL"
   },
   "outputs": [],
   "source": [
    "directory = './Dataset_Clusterin_Problems.csv'\n",
    "load_preprocess = Load_Preprocess(directory)\n",
    "df = load_preprocess.load_data()"
   ]
  },
  {
   "cell_type": "code",
   "execution_count": 6,
   "metadata": {
    "colab": {
     "base_uri": "https://localhost:8080/",
     "height": 665
    },
    "executionInfo": {
     "elapsed": 294,
     "status": "ok",
     "timestamp": 1635060239793,
     "user": {
      "displayName": "Ratul Rashid",
      "photoUrl": "https://lh3.googleusercontent.com/a-/AOh14GgpHTdFkEyevPZKaoWAwBI68xD3YEZYfJwE4Tdmhw=s64",
      "userId": "04963861650832575909"
     },
     "user_tz": 240
    },
    "id": "kP-r8uKNC1JE",
    "outputId": "df6917c0-ae52-4605-d04f-0329e5308834"
   },
   "outputs": [
    {
     "data": {
      "text/html": [
       "<div>\n",
       "<style scoped>\n",
       "    .dataframe tbody tr th:only-of-type {\n",
       "        vertical-align: middle;\n",
       "    }\n",
       "\n",
       "    .dataframe tbody tr th {\n",
       "        vertical-align: top;\n",
       "    }\n",
       "\n",
       "    .dataframe thead th {\n",
       "        text-align: right;\n",
       "    }\n",
       "</style>\n",
       "<table border=\"1\" class=\"dataframe\">\n",
       "  <thead>\n",
       "    <tr style=\"text-align: right;\">\n",
       "      <th></th>\n",
       "      <th>uid</th>\n",
       "      <th>text</th>\n",
       "      <th>extracted_problems</th>\n",
       "    </tr>\n",
       "  </thead>\n",
       "  <tbody>\n",
       "    <tr>\n",
       "      <th>0</th>\n",
       "      <td>US20200059181A1</td>\n",
       "      <td>One drawback of permanent magnet generators is...</td>\n",
       "      <td>vibration and noise</td>\n",
       "    </tr>\n",
       "    <tr>\n",
       "      <th>1</th>\n",
       "      <td>WO2019201595A1</td>\n",
       "      <td>In such de sign the double layer winding layou...</td>\n",
       "      <td>difficult to insert coils with narrow coil wid...</td>\n",
       "    </tr>\n",
       "    <tr>\n",
       "      <th>2</th>\n",
       "      <td>DE102009032881A1</td>\n",
       "      <td>By the increasing size of wind power generator...</td>\n",
       "      <td>their assembly is increasingly difficult;  tra...</td>\n",
       "    </tr>\n",
       "    <tr>\n",
       "      <th>3</th>\n",
       "      <td>EP3273578B1</td>\n",
       "      <td>Therefore, much effort is invested in the deve...</td>\n",
       "      <td>efficient cooling is made difficult by the com...</td>\n",
       "    </tr>\n",
       "    <tr>\n",
       "      <th>4</th>\n",
       "      <td>EP3531540A1</td>\n",
       "      <td>The object of the present invention is to impr...</td>\n",
       "      <td>the cooling of an electrical generator</td>\n",
       "    </tr>\n",
       "    <tr>\n",
       "      <th>5</th>\n",
       "      <td>CN102684348B</td>\n",
       "      <td>Can by with high-frequency come one or more co...</td>\n",
       "      <td>risk of converter failure</td>\n",
       "    </tr>\n",
       "    <tr>\n",
       "      <th>6</th>\n",
       "      <td>CN103671487B</td>\n",
       "      <td>Wind turbine（Especially directly drive wind tu...</td>\n",
       "      <td>It is very heavy. This to be very difficult to...</td>\n",
       "    </tr>\n",
       "    <tr>\n",
       "      <th>7</th>\n",
       "      <td>US8629596B2</td>\n",
       "      <td>In a conventional design of the stator slots o...</td>\n",
       "      <td>makes laying the form - wound coils in the slo...</td>\n",
       "    </tr>\n",
       "    <tr>\n",
       "      <th>8</th>\n",
       "      <td>CN103452758B</td>\n",
       "      <td>In the case where aerodynamic brakes fail, mec...</td>\n",
       "      <td>aerodynamic brakes fail</td>\n",
       "    </tr>\n",
       "    <tr>\n",
       "      <th>9</th>\n",
       "      <td>EP2896824B1</td>\n",
       "      <td>One of the challenges with the direct drive ge...</td>\n",
       "      <td>mechanical brake system</td>\n",
       "    </tr>\n",
       "    <tr>\n",
       "      <th>10</th>\n",
       "      <td>CN105305452B</td>\n",
       "      <td>Because power plant operator does not know abo...</td>\n",
       "      <td>being difficult to be aware of is currently It...</td>\n",
       "    </tr>\n",
       "    <tr>\n",
       "      <th>11</th>\n",
       "      <td>CN104949625B</td>\n",
       "      <td>However, due to the depth of the generator, vi...</td>\n",
       "      <td>visual inspection of the air gap</td>\n",
       "    </tr>\n",
       "    <tr>\n",
       "      <th>12</th>\n",
       "      <td>EP3614556A1</td>\n",
       "      <td>Conventionally, torque ripple control may be a...</td>\n",
       "      <td>Torque ripple</td>\n",
       "    </tr>\n",
       "    <tr>\n",
       "      <th>13</th>\n",
       "      <td>CN109979705A</td>\n",
       "      <td>Magnetic flux can also be increased by reducin...</td>\n",
       "      <td>Increasing the Magnetic flux</td>\n",
       "    </tr>\n",
       "    <tr>\n",
       "      <th>14</th>\n",
       "      <td>DE102012206867A1</td>\n",
       "      <td>Installation of the entire wind turbine poses ...</td>\n",
       "      <td>greater the larger the entire generator</td>\n",
       "    </tr>\n",
       "    <tr>\n",
       "      <th>15</th>\n",
       "      <td>EP3270491A1</td>\n",
       "      <td>These nested and folded winding regions are us...</td>\n",
       "      <td>difficult to cool</td>\n",
       "    </tr>\n",
       "    <tr>\n",
       "      <th>16</th>\n",
       "      <td>DE102010038922A1</td>\n",
       "      <td>For electrical machines, such. As permanent ma...</td>\n",
       "      <td>the attachment of the permanent magnets on the...</td>\n",
       "    </tr>\n",
       "    <tr>\n",
       "      <th>17</th>\n",
       "      <td>US9698653B2</td>\n",
       "      <td>The drawback of this method is that large gas-...</td>\n",
       "      <td>large gas-to-air or gas-to-water heat exchange...</td>\n",
       "    </tr>\n",
       "    <tr>\n",
       "      <th>18</th>\n",
       "      <td>US20140314580A1</td>\n",
       "      <td>For large scale wind turbines the hubs have no...</td>\n",
       "      <td>difficult for them to be iron - casted in one ...</td>\n",
       "    </tr>\n",
       "    <tr>\n",
       "      <th>19</th>\n",
       "      <td>CN107191474A</td>\n",
       "      <td>This shows following shortcoming：Opening being...</td>\n",
       "      <td>Bearing extra fatigue</td>\n",
       "    </tr>\n",
       "  </tbody>\n",
       "</table>\n",
       "</div>"
      ],
      "text/plain": [
       "                 uid                                               text  \\\n",
       "0    US20200059181A1  One drawback of permanent magnet generators is...   \n",
       "1     WO2019201595A1  In such de sign the double layer winding layou...   \n",
       "2   DE102009032881A1  By the increasing size of wind power generator...   \n",
       "3        EP3273578B1  Therefore, much effort is invested in the deve...   \n",
       "4        EP3531540A1  The object of the present invention is to impr...   \n",
       "5       CN102684348B  Can by with high-frequency come one or more co...   \n",
       "6       CN103671487B  Wind turbine（Especially directly drive wind tu...   \n",
       "7        US8629596B2  In a conventional design of the stator slots o...   \n",
       "8       CN103452758B  In the case where aerodynamic brakes fail, mec...   \n",
       "9        EP2896824B1  One of the challenges with the direct drive ge...   \n",
       "10      CN105305452B  Because power plant operator does not know abo...   \n",
       "11      CN104949625B  However, due to the depth of the generator, vi...   \n",
       "12       EP3614556A1  Conventionally, torque ripple control may be a...   \n",
       "13      CN109979705A  Magnetic flux can also be increased by reducin...   \n",
       "14  DE102012206867A1  Installation of the entire wind turbine poses ...   \n",
       "15       EP3270491A1  These nested and folded winding regions are us...   \n",
       "16  DE102010038922A1  For electrical machines, such. As permanent ma...   \n",
       "17       US9698653B2  The drawback of this method is that large gas-...   \n",
       "18   US20140314580A1  For large scale wind turbines the hubs have no...   \n",
       "19      CN107191474A  This shows following shortcoming：Opening being...   \n",
       "\n",
       "                                   extracted_problems  \n",
       "0                                 vibration and noise  \n",
       "1   difficult to insert coils with narrow coil wid...  \n",
       "2   their assembly is increasingly difficult;  tra...  \n",
       "3   efficient cooling is made difficult by the com...  \n",
       "4              the cooling of an electrical generator  \n",
       "5                           risk of converter failure  \n",
       "6   It is very heavy. This to be very difficult to...  \n",
       "7   makes laying the form - wound coils in the slo...  \n",
       "8                             aerodynamic brakes fail  \n",
       "9                             mechanical brake system  \n",
       "10  being difficult to be aware of is currently It...  \n",
       "11                   visual inspection of the air gap  \n",
       "12                                      Torque ripple  \n",
       "13                       Increasing the Magnetic flux  \n",
       "14            greater the larger the entire generator  \n",
       "15                                  difficult to cool  \n",
       "16  the attachment of the permanent magnets on the...  \n",
       "17  large gas-to-air or gas-to-water heat exchange...  \n",
       "18  difficult for them to be iron - casted in one ...  \n",
       "19                              Bearing extra fatigue  "
      ]
     },
     "execution_count": 6,
     "metadata": {},
     "output_type": "execute_result"
    }
   ],
   "source": [
    "#showing the first 20 rows of the dataset before applying preprocessing techniques\n",
    "df[0:20]"
   ]
  },
  {
   "cell_type": "code",
   "execution_count": 7,
   "metadata": {
    "id": "1hxNfyTpS1sS"
   },
   "outputs": [
    {
     "data": {
      "text/html": [
       "<div>\n",
       "<style scoped>\n",
       "    .dataframe tbody tr th:only-of-type {\n",
       "        vertical-align: middle;\n",
       "    }\n",
       "\n",
       "    .dataframe tbody tr th {\n",
       "        vertical-align: top;\n",
       "    }\n",
       "\n",
       "    .dataframe thead th {\n",
       "        text-align: right;\n",
       "    }\n",
       "</style>\n",
       "<table border=\"1\" class=\"dataframe\">\n",
       "  <thead>\n",
       "    <tr style=\"text-align: right;\">\n",
       "      <th></th>\n",
       "      <th>uid</th>\n",
       "      <th>text</th>\n",
       "      <th>extracted_problems</th>\n",
       "    </tr>\n",
       "  </thead>\n",
       "  <tbody>\n",
       "    <tr>\n",
       "      <th>0</th>\n",
       "      <td>US20200059181A1</td>\n",
       "      <td>One drawback of permanent magnet generators is...</td>\n",
       "      <td>vibration noise</td>\n",
       "    </tr>\n",
       "    <tr>\n",
       "      <th>1</th>\n",
       "      <td>WO2019201595A1</td>\n",
       "      <td>In such de sign the double layer winding layou...</td>\n",
       "      <td>difficult insert coil narrow coil width side s...</td>\n",
       "    </tr>\n",
       "    <tr>\n",
       "      <th>2</th>\n",
       "      <td>DE102009032881A1</td>\n",
       "      <td>By the increasing size of wind power generator...</td>\n",
       "      <td>assembly increasingly difficult transport logi...</td>\n",
       "    </tr>\n",
       "    <tr>\n",
       "      <th>3</th>\n",
       "      <td>EP3273578B1</td>\n",
       "      <td>Therefore, much effort is invested in the deve...</td>\n",
       "      <td>efficient cooling made difficult compact desig...</td>\n",
       "    </tr>\n",
       "    <tr>\n",
       "      <th>4</th>\n",
       "      <td>EP3531540A1</td>\n",
       "      <td>The object of the present invention is to impr...</td>\n",
       "      <td>cooling electrical generator</td>\n",
       "    </tr>\n",
       "    <tr>\n",
       "      <th>5</th>\n",
       "      <td>CN102684348B</td>\n",
       "      <td>Can by with high-frequency come one or more co...</td>\n",
       "      <td>risk converter failure</td>\n",
       "    </tr>\n",
       "    <tr>\n",
       "      <th>6</th>\n",
       "      <td>CN103671487B</td>\n",
       "      <td>Wind turbine（Especially directly drive wind tu...</td>\n",
       "      <td>heavy difficult replace base bearing</td>\n",
       "    </tr>\n",
       "    <tr>\n",
       "      <th>7</th>\n",
       "      <td>US8629596B2</td>\n",
       "      <td>In a conventional design of the stator slots o...</td>\n",
       "      <td>make laying form wound coil slot difficult</td>\n",
       "    </tr>\n",
       "    <tr>\n",
       "      <th>8</th>\n",
       "      <td>CN103452758B</td>\n",
       "      <td>In the case where aerodynamic brakes fail, mec...</td>\n",
       "      <td>aerodynamic brake fail</td>\n",
       "    </tr>\n",
       "    <tr>\n",
       "      <th>9</th>\n",
       "      <td>EP2896824B1</td>\n",
       "      <td>One of the challenges with the direct drive ge...</td>\n",
       "      <td>mechanical brake system</td>\n",
       "    </tr>\n",
       "    <tr>\n",
       "      <th>10</th>\n",
       "      <td>CN105305452B</td>\n",
       "      <td>Because power plant operator does not know abo...</td>\n",
       "      <td>difficult aware currently reduction grid condi...</td>\n",
       "    </tr>\n",
       "    <tr>\n",
       "      <th>11</th>\n",
       "      <td>CN104949625B</td>\n",
       "      <td>However, due to the depth of the generator, vi...</td>\n",
       "      <td>visual inspection air gap</td>\n",
       "    </tr>\n",
       "    <tr>\n",
       "      <th>12</th>\n",
       "      <td>EP3614556A1</td>\n",
       "      <td>Conventionally, torque ripple control may be a...</td>\n",
       "      <td>torque ripple</td>\n",
       "    </tr>\n",
       "    <tr>\n",
       "      <th>13</th>\n",
       "      <td>CN109979705A</td>\n",
       "      <td>Magnetic flux can also be increased by reducin...</td>\n",
       "      <td>increasing magnetic flux</td>\n",
       "    </tr>\n",
       "    <tr>\n",
       "      <th>14</th>\n",
       "      <td>DE102012206867A1</td>\n",
       "      <td>Installation of the entire wind turbine poses ...</td>\n",
       "      <td>greater larger entire generator</td>\n",
       "    </tr>\n",
       "    <tr>\n",
       "      <th>15</th>\n",
       "      <td>EP3270491A1</td>\n",
       "      <td>These nested and folded winding regions are us...</td>\n",
       "      <td>difficult cool</td>\n",
       "    </tr>\n",
       "    <tr>\n",
       "      <th>16</th>\n",
       "      <td>DE102010038922A1</td>\n",
       "      <td>For electrical machines, such. As permanent ma...</td>\n",
       "      <td>attachment permanent magnet rotor body major m...</td>\n",
       "    </tr>\n",
       "    <tr>\n",
       "      <th>17</th>\n",
       "      <td>US9698653B2</td>\n",
       "      <td>The drawback of this method is that large gas-...</td>\n",
       "      <td>large gastoair gastowater heat exchanger needed</td>\n",
       "    </tr>\n",
       "    <tr>\n",
       "      <th>18</th>\n",
       "      <td>US20140314580A1</td>\n",
       "      <td>For large scale wind turbines the hubs have no...</td>\n",
       "      <td>difficult iron casted one piece</td>\n",
       "    </tr>\n",
       "    <tr>\n",
       "      <th>19</th>\n",
       "      <td>CN107191474A</td>\n",
       "      <td>This shows following shortcoming：Opening being...</td>\n",
       "      <td>bearing extra fatigue</td>\n",
       "    </tr>\n",
       "  </tbody>\n",
       "</table>\n",
       "</div>"
      ],
      "text/plain": [
       "                 uid                                               text  \\\n",
       "0    US20200059181A1  One drawback of permanent magnet generators is...   \n",
       "1     WO2019201595A1  In such de sign the double layer winding layou...   \n",
       "2   DE102009032881A1  By the increasing size of wind power generator...   \n",
       "3        EP3273578B1  Therefore, much effort is invested in the deve...   \n",
       "4        EP3531540A1  The object of the present invention is to impr...   \n",
       "5       CN102684348B  Can by with high-frequency come one or more co...   \n",
       "6       CN103671487B  Wind turbine（Especially directly drive wind tu...   \n",
       "7        US8629596B2  In a conventional design of the stator slots o...   \n",
       "8       CN103452758B  In the case where aerodynamic brakes fail, mec...   \n",
       "9        EP2896824B1  One of the challenges with the direct drive ge...   \n",
       "10      CN105305452B  Because power plant operator does not know abo...   \n",
       "11      CN104949625B  However, due to the depth of the generator, vi...   \n",
       "12       EP3614556A1  Conventionally, torque ripple control may be a...   \n",
       "13      CN109979705A  Magnetic flux can also be increased by reducin...   \n",
       "14  DE102012206867A1  Installation of the entire wind turbine poses ...   \n",
       "15       EP3270491A1  These nested and folded winding regions are us...   \n",
       "16  DE102010038922A1  For electrical machines, such. As permanent ma...   \n",
       "17       US9698653B2  The drawback of this method is that large gas-...   \n",
       "18   US20140314580A1  For large scale wind turbines the hubs have no...   \n",
       "19      CN107191474A  This shows following shortcoming：Opening being...   \n",
       "\n",
       "                                   extracted_problems  \n",
       "0                                     vibration noise  \n",
       "1   difficult insert coil narrow coil width side s...  \n",
       "2   assembly increasingly difficult transport logi...  \n",
       "3   efficient cooling made difficult compact desig...  \n",
       "4                        cooling electrical generator  \n",
       "5                              risk converter failure  \n",
       "6                heavy difficult replace base bearing  \n",
       "7          make laying form wound coil slot difficult  \n",
       "8                              aerodynamic brake fail  \n",
       "9                             mechanical brake system  \n",
       "10  difficult aware currently reduction grid condi...  \n",
       "11                          visual inspection air gap  \n",
       "12                                      torque ripple  \n",
       "13                           increasing magnetic flux  \n",
       "14                    greater larger entire generator  \n",
       "15                                     difficult cool  \n",
       "16  attachment permanent magnet rotor body major m...  \n",
       "17    large gastoair gastowater heat exchanger needed  \n",
       "18                    difficult iron casted one piece  \n",
       "19                              bearing extra fatigue  "
      ]
     },
     "execution_count": 7,
     "metadata": {},
     "output_type": "execute_result"
    }
   ],
   "source": [
    "#showing the first 20 rows of the dataset after applying preprocessing techniques\n",
    "df = load_preprocess.preprocess(df)\n",
    "df[0:20]"
   ]
  },
  {
   "cell_type": "code",
   "execution_count": 8,
   "metadata": {
    "colab": {
     "base_uri": "https://localhost:8080/"
    },
    "executionInfo": {
     "elapsed": 225,
     "status": "ok",
     "timestamp": 1635086549228,
     "user": {
      "displayName": "Ratul Rashid",
      "photoUrl": "https://lh3.googleusercontent.com/a-/AOh14GgpHTdFkEyevPZKaoWAwBI68xD3YEZYfJwE4Tdmhw=s64",
      "userId": "04963861650832575909"
     },
     "user_tz": 240
    },
    "id": "4HW2l-L8AkBf",
    "outputId": "dd14da2a-2791-4c55-cdc1-c69948a9c66b"
   },
   "outputs": [
    {
     "name": "stdout",
     "output_type": "stream",
     "text": [
      "Unique uids are:\n",
      "{'DE', 'WO', 'US', 'EP', 'JP', 'CN'}\n",
      "Total number of unique uid: 6\n"
     ]
    }
   ],
   "source": [
    "df_unique_labels = load_preprocess.unique_uid(df)"
   ]
  },
  {
   "cell_type": "markdown",
   "metadata": {
    "id": "AGpQHi2oY1ZE"
   },
   "source": [
    "##There are total 6 unique uids based on the first two letters of the uids. These uids start with either 'EP', 'CN', 'WO', 'JP', 'DE' or 'US'. So, I have considered 6 unique uids. The next four blocks corresponds to showing dendogram, extracted_problems and their cluster numbers and a scatter plot of K-means clustering for uids staring with CN. "
   ]
  },
  {
   "cell_type": "code",
   "execution_count": 9,
   "metadata": {
    "colab": {
     "base_uri": "https://localhost:8080/"
    },
    "executionInfo": {
     "elapsed": 16145,
     "status": "ok",
     "timestamp": 1635087072387,
     "user": {
      "displayName": "Ratul Rashid",
      "photoUrl": "https://lh3.googleusercontent.com/a-/AOh14GgpHTdFkEyevPZKaoWAwBI68xD3YEZYfJwE4Tdmhw=s64",
      "userId": "04963861650832575909"
     },
     "user_tz": 240
    },
    "id": "F_L-0jOCWQB6",
    "outputId": "ac6d8fe7-0cf9-4594-f8ca-3a9b1c675445"
   },
   "outputs": [
    {
     "name": "stdout",
     "output_type": "stream",
     "text": [
      "Number of records under uid starting with CN is 59\n",
      "Shape of 59 embedded sentences is (59, 768)\n"
     ]
    }
   ],
   "source": [
    "#specifying mpnet as embedding technique. Another option the user can select is bert.\n",
    "#caution: running this will download some trained weights for performing the sentence embedding operations\n",
    "embed = Sentence_Embedding(df, 'CN', 'mpnet')\n",
    "uid_problem_pair = embed.uid_problem_pair()\n",
    "uid_sentence_embed_pair = embed.sentence_embed(uid_problem_pair)"
   ]
  },
  {
   "cell_type": "code",
   "execution_count": 10,
   "metadata": {
    "colab": {
     "base_uri": "https://localhost:8080/",
     "height": 1000
    },
    "executionInfo": {
     "elapsed": 869,
     "status": "ok",
     "timestamp": 1635091471205,
     "user": {
      "displayName": "Ratul Rashid",
      "photoUrl": "https://lh3.googleusercontent.com/a-/AOh14GgpHTdFkEyevPZKaoWAwBI68xD3YEZYfJwE4Tdmhw=s64",
      "userId": "04963861650832575909"
     },
     "user_tz": 240
    },
    "id": "92jjlAbLx6qL",
    "outputId": "e1953d2f-b3fe-40c6-fa5c-5c012b291267"
   },
   "outputs": [
    {
     "name": "stdout",
     "output_type": "stream",
     "text": [
      "Hierarchical clustering of records whose uid start with CN\n"
     ]
    },
    {
     "data": {
      "image/png": "[encoded data removed]",
      "text/plain": [
       "<Figure size 1440x1440 with 1 Axes>"
      ]
     },
     "metadata": {
      "needs_background": "light"
     },
     "output_type": "display_data"
    }
   ],
   "source": [
    "clustering = Clustering_Visualization(uid_sentence_embed_pair)\n",
    "clustering.dendrogram_draw()"
   ]
  },
  {
   "cell_type": "code",
   "execution_count": 11,
   "metadata": {
    "colab": {
     "base_uri": "https://localhost:8080/"
    },
    "executionInfo": {
     "elapsed": 247,
     "status": "ok",
     "timestamp": 1635090068209,
     "user": {
      "displayName": "Ratul Rashid",
      "photoUrl": "https://lh3.googleusercontent.com/a-/AOh14GgpHTdFkEyevPZKaoWAwBI68xD3YEZYfJwE4Tdmhw=s64",
      "userId": "04963861650832575909"
     },
     "user_tz": 240
    },
    "id": "XnVL9wlzniQn",
    "outputId": "98f8126d-f5fa-4972-a3e9-bd39c47ded16"
   },
   "outputs": [
    {
     "name": "stdout",
     "output_type": "stream",
     "text": [
      "Printing the cluster labels for all the records whose uid start with CN total record number under this category is 59\n",
      "\n",
      "[5 0 1 2 1 3 0 5 5 0 0 0 3 2 1 5 0 0 0 1 5 5 5 4 1 0 0 1 5 5 0 0 0 2 4 0 2\n",
      " 0 1 3 5 3 3 5 0 2 3 0 0 5 0 4 5 5 5 5 1 1 5]\n",
      "5:  UID:CN102684348B     Problem:risk converter failure\n",
      "0:  UID:CN103671487B     Problem:heavy difficult replace base bearing\n",
      "1:  UID:CN103452758B     Problem:aerodynamic brake fail\n",
      "2:  UID:CN105305452B     Problem:difficult aware currently reduction grid condition\n",
      "1:  UID:CN104949625B     Problem:visual inspection air gap\n",
      "3:  UID:CN109979705A     Problem:increasing magnetic flux\n",
      "0:  UID:CN107191474A     Problem:bearing extra fatigue\n",
      "5:  UID:CN104995399B     Problem:transport part turbine become difficult\n",
      "5:  UID:CN102290886B     Problem:difficult owing cooling water pipe stator coil winding separated\n",
      "0:  UID:CN110131105A     Problem:uneven operation bearing\n",
      "0:  UID:CN103453011B     Problem:optimal lubrication protecting bearing challenge task\n",
      "0:  UID:CN203431017U     Problem:early bearing failure\n",
      "3:  UID:CN102767487B     Problem:lightning strike one blade wind turbine without particularly damaging generator\n",
      "2:  UID:CN101677200B     Problem:difficult install\n",
      "1:  UID:CN104791191B     Problem:mechanical brake system\n",
      "5:  UID:CN101677195B     Problem:segmentation stator shortcoming lack rigidity\n",
      "0:  UID:CN103765003B     Problem:pad bearing surface big heavy difficult change\n",
      "0:  UID:CN110940520A     Problem:bearing failure\n",
      "0:  UID:CN104234928B     Problem:arrangement rotating device mean rotor rotated\n",
      "1:  UID:CN105604810A     Problem:large amount thunderbolt hit rotor blade leaving lightning receptor distance\n",
      "5:  UID:CN102255406B     Problem:undesirable heat carryover factor insulation\n",
      "5:  UID:CN102638035B     Problem:difficult satisfied power quality\n",
      "5:  UID:CN111226389A     Problem:one winding set may fail\n",
      "4:  UID:CN1745512B     Problem:design motor said characteristic kind paper preface like\n",
      "1:  UID:CN104121287B     Problem:mechanical problem damage wind turbine\n",
      "0:  UID:CN105275752B     Problem:vibration eventually cause fatigue damage\n",
      "0:  UID:CN102570633B     Problem:torque ripple\n",
      "1:  UID:CN103670948B     Problem:dust outer boundry particle\n",
      "5:  UID:CN105089934B     Problem:difficult maintain uniform heat distribution\n",
      "5:  UID:CN105322697B     Problem:generator failure\n",
      "0:  UID:CN111279072A     Problem:rotational rate shaft drop minimum threshold\n",
      "0:  UID:CN102754310B     Problem:rotor pedestal time consuming\n",
      "0:  UID:CN102695886A     Problem:bearing failure\n",
      "2:  UID:CN102761201B     Problem:electrical problem\n",
      "4:  UID:CN101728896A     Problem:motor positioned high temperature place\n",
      "0:  UID:CN102904253B     Problem:radial load pressure fluctuation\n",
      "2:  UID:CN107448365B     Problem:relatively small contact area\n",
      "0:  UID:CN109756163A     Problem:torque pulsation control\n",
      "1:  UID:CN202073718U     Problem:expensive\n",
      "3:  UID:CN101446268B     Problem:whole electric generator structure subject gravity moment inertia\n",
      "5:  UID:CN102782997B     Problem:maintenance personnel working generator slipping object inadvertently\n",
      "3:  UID:CN110224426A     Problem:matching medium voltage generator high voltage power transmission offshore power generation system\n",
      "3:  UID:CN207801487U     Problem:ensure dynamic stability frequency voltage system\n",
      "5:  UID:CN107075974A     Problem:blade turbine expanded due heating turbine housing due slowly becoming heat slowly expand\n",
      "0:  UID:CN104295454B     Problem:cooling liquid cycle radiator bearing heat dissipation device\n",
      "2:  UID:CN205864119U     Problem:winding depending portion difficult cool\n",
      "3:  UID:CN102037239B     Problem:whole electric generator structure subject gravity mass inertia\n",
      "0:  UID:CN102242694A     Problem:undue oscillation\n",
      "0:  UID:CN103427569B     Problem:inherent lack rigidity resulting deformation\n",
      "5:  UID:CN104094506B     Problem:physical size weight high rating generator cause problem\n",
      "0:  UID:CN106050565B     Problem:reduction noise vibration\n",
      "4:  UID:CN103987963B     Problem:provide medium structural behaviour\n",
      "5:  UID:CN102684345A     Problem:excessive heat\n",
      "5:  UID:CN102606398A     Problem:structure space weight cost wind turbine equipment cabin material\n",
      "5:  UID:CN105634170A     Problem:insufficient cooling winding overhang\n",
      "5:  UID:CN111130234A     Problem:undesired harmonic torque output power electrical machine\n",
      "1:  UID:CN104806458B     Problem:direct cooling magnet becomes difficult\n",
      "1:  UID:CN104979926A     Problem:uneven air gap\n",
      "5:  UID:CN103362740B     Problem:cause generator overheat\n"
     ]
    }
   ],
   "source": [
    "labels_out = clustering.k_means_labels(uid_problem_pair)"
   ]
  },
  {
   "cell_type": "code",
   "execution_count": 12,
   "metadata": {
    "colab": {
     "base_uri": "https://localhost:8080/",
     "height": 298
    },
    "executionInfo": {
     "elapsed": 383,
     "status": "ok",
     "timestamp": 1635091474725,
     "user": {
      "displayName": "Ratul Rashid",
      "photoUrl": "https://lh3.googleusercontent.com/a-/AOh14GgpHTdFkEyevPZKaoWAwBI68xD3YEZYfJwE4Tdmhw=s64",
      "userId": "04963861650832575909"
     },
     "user_tz": 240
    },
    "id": "KLStFHgC5lEg",
    "outputId": "96977ca7-9c93-4910-81eb-d5b6c8b34d08"
   },
   "outputs": [
    {
     "name": "stdout",
     "output_type": "stream",
     "text": [
      "Scatter plot for records whose uid start with CN\n",
      "\n",
      "Records with their respective cluster labels are plotted using a Scatter plot.\n",
      "For dimentionality reduction of matrix containing sentence embeddings, we have used Principal Component Analysis.\n",
      " X denotes cluster centers in the scatter plot.\n"
     ]
    },
    {
     "data": {
      "image/png": "[encoded data removed]",
      "text/plain": [
       "<Figure size 432x288 with 1 Axes>"
      ]
     },
     "metadata": {
      "needs_background": "light"
     },
     "output_type": "display_data"
    }
   ],
   "source": [
    "clustering.k_means_clustering(labels = labels_out[0], clf = labels_out[1])"
   ]
  },
  {
   "cell_type": "markdown",
   "metadata": {
    "id": "swdTXb5BamWw"
   },
   "source": [
    "##The next four blocks corresponds to showing dendogram, extracted_problems and their cluster numbers and a scatter plot of K-means clustering for uids staring with WO. "
   ]
  },
  {
   "cell_type": "code",
   "execution_count": 13,
   "metadata": {
    "colab": {
     "base_uri": "https://localhost:8080/"
    },
    "executionInfo": {
     "elapsed": 7806,
     "status": "ok",
     "timestamp": 1635094224898,
     "user": {
      "displayName": "Ratul Rashid",
      "photoUrl": "https://lh3.googleusercontent.com/a-/AOh14GgpHTdFkEyevPZKaoWAwBI68xD3YEZYfJwE4Tdmhw=s64",
      "userId": "04963861650832575909"
     },
     "user_tz": 240
    },
    "id": "nTZZxffbExt1",
    "outputId": "3c09d8ed-d4dc-41a4-b262-7cea824b90fb"
   },
   "outputs": [
    {
     "name": "stdout",
     "output_type": "stream",
     "text": [
      "Number of records under uid starting with WO is 9\n",
      "Shape of 9 embedded sentences is (9, 768)\n"
     ]
    }
   ],
   "source": [
    "embed = Sentence_Embedding(df, 'WO', 'mpnet')\n",
    "uid_problem_pair = embed.uid_problem_pair()\n",
    "uid_sentence_embed_pair = embed.sentence_embed(uid_problem_pair)"
   ]
  },
  {
   "cell_type": "code",
   "execution_count": 14,
   "metadata": {
    "colab": {
     "base_uri": "https://localhost:8080/",
     "height": 1000
    },
    "executionInfo": {
     "elapsed": 472,
     "status": "ok",
     "timestamp": 1635094228458,
     "user": {
      "displayName": "Ratul Rashid",
      "photoUrl": "https://lh3.googleusercontent.com/a-/AOh14GgpHTdFkEyevPZKaoWAwBI68xD3YEZYfJwE4Tdmhw=s64",
      "userId": "04963861650832575909"
     },
     "user_tz": 240
    },
    "id": "iQeMTtO_FBKW",
    "outputId": "d6031f9c-3fe9-4f51-b593-121b85e36125"
   },
   "outputs": [
    {
     "name": "stdout",
     "output_type": "stream",
     "text": [
      "Hierarchical clustering of records whose uid start with WO\n"
     ]
    },
    {
     "data": {
      "image/png": "[encoded data removed]",
      "text/plain": [
       "<Figure size 1440x1440 with 1 Axes>"
      ]
     },
     "metadata": {
      "needs_background": "light"
     },
     "output_type": "display_data"
    }
   ],
   "source": [
    "clustering = Clustering_Visualization(uid_sentence_embed_pair)\n",
    "clustering.dendrogram_draw()"
   ]
  },
  {
   "cell_type": "code",
   "execution_count": 15,
   "metadata": {
    "colab": {
     "base_uri": "https://localhost:8080/"
    },
    "executionInfo": {
     "elapsed": 224,
     "status": "ok",
     "timestamp": 1635094248343,
     "user": {
      "displayName": "Ratul Rashid",
      "photoUrl": "https://lh3.googleusercontent.com/a-/AOh14GgpHTdFkEyevPZKaoWAwBI68xD3YEZYfJwE4Tdmhw=s64",
      "userId": "04963861650832575909"
     },
     "user_tz": 240
    },
    "id": "-EJIYm-qFEhk",
    "outputId": "77682f81-1be3-46c1-8395-dcfb467976ed"
   },
   "outputs": [
    {
     "name": "stdout",
     "output_type": "stream",
     "text": [
      "Printing the cluster labels for all the records whose uid start with WO total record number under this category is 9\n",
      "\n",
      "[1 1 1 1 0 1 1 0 0]\n",
      "1:  UID:WO2019201595A1     Problem:difficult insert coil narrow coil width side side coil formation\n",
      "1:  UID:WO2020088956A1     Problem:undesirable torque harmonic output power harmonic electrical machine\n",
      "1:  UID:WO2016162135A1     Problem:grounding low speed synchronous machine high torque\n",
      "1:  UID:WO2018059798A1     Problem:gas turbine emission form exhaust gas typically higher transient mode\n",
      "0:  UID:WO2020094470A1     Problem:ac loss\n",
      "1:  UID:WO2020048732A1     Problem:surface generator may damaged\n",
      "1:  UID:WO2018134044A1     Problem:difficult cool stator external rotor generator\n",
      "0:  UID:WO2018041541A1     Problem:electrical energy must transported long distance\n",
      "0:  UID:WO2018028868A1     Problem:electrical energy must transported long distance\n"
     ]
    }
   ],
   "source": [
    "labels_out = clustering.k_means_labels(uid_problem_pair)"
   ]
  },
  {
   "cell_type": "code",
   "execution_count": 16,
   "metadata": {
    "colab": {
     "base_uri": "https://localhost:8080/",
     "height": 301
    },
    "executionInfo": {
     "elapsed": 508,
     "status": "ok",
     "timestamp": 1635094252593,
     "user": {
      "displayName": "Ratul Rashid",
      "photoUrl": "https://lh3.googleusercontent.com/a-/AOh14GgpHTdFkEyevPZKaoWAwBI68xD3YEZYfJwE4Tdmhw=s64",
      "userId": "04963861650832575909"
     },
     "user_tz": 240
    },
    "id": "euPTXo1eFGv7",
    "outputId": "82c46b9f-2796-4e95-b238-cbd95c63e8ad"
   },
   "outputs": [
    {
     "name": "stdout",
     "output_type": "stream",
     "text": [
      "Scatter plot for records whose uid start with WO\n",
      "\n",
      "Records with their respective cluster labels are plotted using a Scatter plot.\n",
      "For dimentionality reduction of matrix containing sentence embeddings, we have used Principal Component Analysis.\n",
      " X denotes cluster centers in the scatter plot.\n"
     ]
    },
    {
     "data": {
      "image/png": "[encoded data removed]",
      "text/plain": [
       "<Figure size 432x288 with 1 Axes>"
      ]
     },
     "metadata": {
      "needs_background": "light"
     },
     "output_type": "display_data"
    }
   ],
   "source": [
    "clustering.k_means_clustering(labels = labels_out[0], clf = labels_out[1])"
   ]
  },
  {
   "cell_type": "markdown",
   "metadata": {
    "id": "zMnAz0mVa1Mn"
   },
   "source": [
    "##The next four blocks corresponds to showing dendogram, extracted_problems and their cluster numbers and a scatter plot of K-means clustering for uids staring with DE. "
   ]
  },
  {
   "cell_type": "code",
   "execution_count": 17,
   "metadata": {
    "colab": {
     "base_uri": "https://localhost:8080/"
    },
    "executionInfo": {
     "elapsed": 11288,
     "status": "ok",
     "timestamp": 1635094492672,
     "user": {
      "displayName": "Ratul Rashid",
      "photoUrl": "https://lh3.googleusercontent.com/a-/AOh14GgpHTdFkEyevPZKaoWAwBI68xD3YEZYfJwE4Tdmhw=s64",
      "userId": "04963861650832575909"
     },
     "user_tz": 240
    },
    "id": "8Oz38Ss3FX2v",
    "outputId": "6df252f5-e661-4246-ff5d-a9d31082d099"
   },
   "outputs": [
    {
     "name": "stdout",
     "output_type": "stream",
     "text": [
      "Number of records under uid starting with DE is 26\n",
      "Shape of 26 embedded sentences is (26, 768)\n"
     ]
    }
   ],
   "source": [
    "embed = Sentence_Embedding(df, 'DE', 'mpnet')\n",
    "uid_problem_pair = embed.uid_problem_pair()\n",
    "uid_sentence_embed_pair = embed.sentence_embed(uid_problem_pair)"
   ]
  },
  {
   "cell_type": "code",
   "execution_count": 18,
   "metadata": {
    "colab": {
     "base_uri": "https://localhost:8080/",
     "height": 1000
    },
    "executionInfo": {
     "elapsed": 610,
     "status": "ok",
     "timestamp": 1635094494703,
     "user": {
      "displayName": "Ratul Rashid",
      "photoUrl": "https://lh3.googleusercontent.com/a-/AOh14GgpHTdFkEyevPZKaoWAwBI68xD3YEZYfJwE4Tdmhw=s64",
      "userId": "04963861650832575909"
     },
     "user_tz": 240
    },
    "id": "1dg71JLtN0OM",
    "outputId": "712fdfd9-6ad7-4cf3-8c70-b991eb7fe2ab"
   },
   "outputs": [
    {
     "name": "stdout",
     "output_type": "stream",
     "text": [
      "Hierarchical clustering of records whose uid start with DE\n"
     ]
    },
    {
     "data": {
      "image/png": "[encoded data removed]",
      "text/plain": [
       "<Figure size 1440x1440 with 1 Axes>"
      ]
     },
     "metadata": {
      "needs_background": "light"
     },
     "output_type": "display_data"
    }
   ],
   "source": [
    "clustering = Clustering_Visualization(uid_sentence_embed_pair)\n",
    "clustering.dendrogram_draw()"
   ]
  },
  {
   "cell_type": "code",
   "execution_count": 19,
   "metadata": {
    "colab": {
     "base_uri": "https://localhost:8080/"
    },
    "executionInfo": {
     "elapsed": 231,
     "status": "ok",
     "timestamp": 1635094496644,
     "user": {
      "displayName": "Ratul Rashid",
      "photoUrl": "https://lh3.googleusercontent.com/a-/AOh14GgpHTdFkEyevPZKaoWAwBI68xD3YEZYfJwE4Tdmhw=s64",
      "userId": "04963861650832575909"
     },
     "user_tz": 240
    },
    "id": "kdCla8UoNrxg",
    "outputId": "2f0c90dc-980c-472d-f290-75339e521a7e"
   },
   "outputs": [
    {
     "name": "stdout",
     "output_type": "stream",
     "text": [
      "Printing the cluster labels for all the records whose uid start with DE total record number under this category is 26\n",
      "\n",
      "[2 3 3 3 3 3 1 0 1 1 3 3 1 3 2 0 2 2 2 3 1 1 0 3 2 3]\n",
      "2:  UID:DE102009032881A1     Problem:assembly increasingly difficult transport logistics\n",
      "3:  UID:DE102012206867A1     Problem:greater larger entire generator\n",
      "3:  UID:DE102010038922A1     Problem:attachment permanent magnet rotor body major manufacturing challenge\n",
      "3:  UID:DE102012218795A1     Problem:handling corresponding stator rotor element often problematic\n",
      "3:  UID:DE10250382A1     Problem:large diameter generator well big one air gap\n",
      "3:  UID:DE102015201959A1     Problem:geometry machined rotor yoke cause problem extreme situation\n",
      "1:  UID:DE102013206572A1     Problem:reduced average torque torque ripple\n",
      "0:  UID:DE102013226103A1     Problem:supply consumer low voltage source\n",
      "1:  UID:DE112011103863T5     Problem:likelihood bearing failure\n",
      "1:  UID:DE60004845T2     Problem:largely constant speed\n",
      "3:  UID:DE102018216785A1     Problem:ac problem\n",
      "3:  UID:DE102018215585A1     Problem:designing rotor electrical machine\n",
      "1:  UID:DE102010028869A1     Problem:soon large drive equipped tooth coil\n",
      "3:  UID:DE102014214863A1     Problem:linear optimization problem\n",
      "2:  UID:DE202010018260U1     Problem:loose fit\n",
      "0:  UID:DE102013205475A1     Problem:specifying possibility reversible temporary energy storage excess energy\n",
      "2:  UID:DE102010039590A1     Problem:assembly becomes increasingly difficult\n",
      "2:  UID:DE19955586A1     Problem:increased level automation sentence\n",
      "2:  UID:DE102013213263A1     Problem:power supply assembly therefore difficult expensive\n",
      "3:  UID:DE102008029377B4     Problem:reactive power requirement network variable excitation rotor adjusted\n",
      "1:  UID:DE102004027534A1     Problem:transmission rotor power brush slip ring associated maintenance cost significant disadvantage\n",
      "1:  UID:DE102012208863A1     Problem:constant maintenance air gap\n",
      "0:  UID:DE19620906C2     Problem:flicker problem\n",
      "3:  UID:DE102008013415A1     Problem:grid compatibility wind turbine\n",
      "2:  UID:DE102014226680A1     Problem:change air gap\n",
      "3:  UID:DE102014200394A1     Problem:cogging torque\n"
     ]
    }
   ],
   "source": [
    "labels_out = clustering.k_means_labels(uid_problem_pair)"
   ]
  },
  {
   "cell_type": "code",
   "execution_count": 20,
   "metadata": {
    "colab": {
     "base_uri": "https://localhost:8080/",
     "height": 298
    },
    "executionInfo": {
     "elapsed": 491,
     "status": "ok",
     "timestamp": 1635094511348,
     "user": {
      "displayName": "Ratul Rashid",
      "photoUrl": "https://lh3.googleusercontent.com/a-/AOh14GgpHTdFkEyevPZKaoWAwBI68xD3YEZYfJwE4Tdmhw=s64",
      "userId": "04963861650832575909"
     },
     "user_tz": 240
    },
    "id": "o1DBWmE3OGOZ",
    "outputId": "c4a7dd88-d47c-4350-af3d-4545e83bc846"
   },
   "outputs": [
    {
     "name": "stdout",
     "output_type": "stream",
     "text": [
      "Scatter plot for records whose uid start with DE\n",
      "\n",
      "Records with their respective cluster labels are plotted using a Scatter plot.\n",
      "For dimentionality reduction of matrix containing sentence embeddings, we have used Principal Component Analysis.\n",
      " X denotes cluster centers in the scatter plot.\n"
     ]
    },
    {
     "data": {
      "image/png": "[encoded data removed]",
      "text/plain": [
       "<Figure size 432x288 with 1 Axes>"
      ]
     },
     "metadata": {
      "needs_background": "light"
     },
     "output_type": "display_data"
    }
   ],
   "source": [
    "clustering.k_means_clustering(labels = labels_out[0], clf = labels_out[1])"
   ]
  },
  {
   "cell_type": "markdown",
   "metadata": {
    "id": "aUYKjwVqa6sc"
   },
   "source": [
    "##The next four blocks corresponds to showing dendogram, extracted_problems and their cluster numbers and a scatter plot of K-means clustering for uids staring with EP. "
   ]
  },
  {
   "cell_type": "code",
   "execution_count": 21,
   "metadata": {
    "colab": {
     "base_uri": "https://localhost:8080/"
    },
    "executionInfo": {
     "elapsed": 18011,
     "status": "ok",
     "timestamp": 1635094627232,
     "user": {
      "displayName": "Ratul Rashid",
      "photoUrl": "https://lh3.googleusercontent.com/a-/AOh14GgpHTdFkEyevPZKaoWAwBI68xD3YEZYfJwE4Tdmhw=s64",
      "userId": "04963861650832575909"
     },
     "user_tz": 240
    },
    "id": "dO4277LdOjvc",
    "outputId": "ba29b1ac-720f-4a49-f4c7-ad5ee0d10212"
   },
   "outputs": [
    {
     "name": "stdout",
     "output_type": "stream",
     "text": [
      "Number of records under uid starting with EP is 69\n",
      "Shape of 69 embedded sentences is (69, 768)\n"
     ]
    }
   ],
   "source": [
    "embed = Sentence_Embedding(df, 'EP', 'mpnet')\n",
    "uid_problem_pair = embed.uid_problem_pair()\n",
    "uid_sentence_embed_pair = embed.sentence_embed(uid_problem_pair)"
   ]
  },
  {
   "cell_type": "code",
   "execution_count": 22,
   "metadata": {
    "colab": {
     "base_uri": "https://localhost:8080/",
     "height": 1000
    },
    "executionInfo": {
     "elapsed": 974,
     "status": "ok",
     "timestamp": 1635094642686,
     "user": {
      "displayName": "Ratul Rashid",
      "photoUrl": "https://lh3.googleusercontent.com/a-/AOh14GgpHTdFkEyevPZKaoWAwBI68xD3YEZYfJwE4Tdmhw=s64",
      "userId": "04963861650832575909"
     },
     "user_tz": 240
    },
    "id": "OWSU2jPVOuPi",
    "outputId": "30b41ce1-04c5-4b84-af9a-2031cf77fc47"
   },
   "outputs": [
    {
     "name": "stdout",
     "output_type": "stream",
     "text": [
      "Hierarchical clustering of records whose uid start with EP\n"
     ]
    },
    {
     "data": {
      "image/png": "[encoded data removed]",
      "text/plain": [
       "<Figure size 1440x1440 with 1 Axes>"
      ]
     },
     "metadata": {
      "needs_background": "light"
     },
     "output_type": "display_data"
    }
   ],
   "source": [
    "clustering = Clustering_Visualization(uid_sentence_embed_pair)\n",
    "clustering.dendrogram_draw()"
   ]
  },
  {
   "cell_type": "code",
   "execution_count": 23,
   "metadata": {
    "colab": {
     "base_uri": "https://localhost:8080/"
    },
    "executionInfo": {
     "elapsed": 202,
     "status": "ok",
     "timestamp": 1635094655955,
     "user": {
      "displayName": "Ratul Rashid",
      "photoUrl": "https://lh3.googleusercontent.com/a-/AOh14GgpHTdFkEyevPZKaoWAwBI68xD3YEZYfJwE4Tdmhw=s64",
      "userId": "04963861650832575909"
     },
     "user_tz": 240
    },
    "id": "fjLaizvOPDsH",
    "outputId": "fd9e1b22-f881-40a5-b9dc-97f16aaabf51"
   },
   "outputs": [
    {
     "name": "stdout",
     "output_type": "stream",
     "text": [
      "Printing the cluster labels for all the records whose uid start with EP total record number under this category is 69\n",
      "\n",
      "[3 3 5 5 3 3 2 1 2 3 1 1 3 3 2 4 3 2 4 3 1 1 2 3 2 2 3 3 3 3 3 3 2 1 1 2 4\n",
      " 3 3 3 2 5 3 3 5 2 0 3 2 0 1 3 5 2 2 5 5 3 2 5 3 5 0 4 3 4 3 3 5]\n",
      "3:  UID:EP3273578B1     Problem:efficient cooling made difficult compact design drive end\n",
      "3:  UID:EP3531540A1     Problem:cooling electrical generator\n",
      "5:  UID:EP2896824B1     Problem:mechanical brake system\n",
      "5:  UID:EP3614556A1     Problem:torque ripple\n",
      "3:  UID:EP3270491A1     Problem:difficult cool\n",
      "3:  UID:EP2510229B1     Problem:find way conduct electrical current lightning strike onto blade blade\n",
      "2:  UID:EP2747252B1     Problem:accessibility difficult order maintain bearing engageable surface\n",
      "1:  UID:EP2166644B1     Problem:double layer winding difficult mount\n",
      "2:  UID:EP2747273B1     Problem:practically difficult manufacture tolerance non uniform material structure deformation\n",
      "3:  UID:EP2669512B1     Problem:difficult ground bearing current direct drive generator\n",
      "1:  UID:EP2333934B1     Problem:difficult keep air gap range millimeter\n",
      "1:  UID:EP2333933B1     Problem:difficult keep air gap range millimeter\n",
      "3:  UID:EP2169814B2     Problem:failure stator segment\n",
      "3:  UID:EP3088731B1     Problem:difficult transport large generator especially large direct drive generator road\n",
      "2:  UID:EP2454803B1     Problem:assembly becomes increasingly difficult\n",
      "4:  UID:EP2869458B1     Problem:acoustic noise\n",
      "3:  UID:EP3143278B1     Problem:lack generator storage\n",
      "2:  UID:EP2458714B1     Problem:removing disadvantage magnetically open slot\n",
      "4:  UID:EP3264593B1     Problem:noise vibration issue\n",
      "3:  UID:EP2466128B2     Problem:damage moist air inflict component generator\n",
      "1:  UID:EP2713044B1     Problem:thinner outer end may bend collide wind turbine tower\n",
      "1:  UID:EP2532879B1     Problem:rotor blade installed onto called direct drive wind turbine\n",
      "2:  UID:EP2519741B1     Problem:problem transferring hydraulic pneumatic fluid nacelle hub\n",
      "3:  UID:EP2730780A1     Problem:load shedding\n",
      "2:  UID:EP2143942B1     Problem:static indeterminacy three bearing arrangement\n",
      "2:  UID:EP2143944B1     Problem:static indeterminacy three bearing arrangement\n",
      "3:  UID:EP2911260A1     Problem:isolation generator\n",
      "3:  UID:EP1911150B1     Problem:cost size known starter arrangement\n",
      "3:  UID:EP3309932A1     Problem:high load power generator\n",
      "3:  UID:EP2836707B1     Problem:arrangement generator\n",
      "3:  UID:EP2499714B1     Problem:uncontrollable reactive power consumption\n",
      "3:  UID:EP1416604B1     Problem:local power dissipation winding section rotor may disadvantageous\n",
      "2:  UID:EP2766602B2     Problem:mechanical problem bearing like higher wear\n",
      "1:  UID:EP2604855A1     Problem:generation axial force\n",
      "1:  UID:EP3086467A1     Problem:maintain narrow airgap entire circumference entire length\n",
      "2:  UID:EP2736154A1     Problem:manufacturing problem\n",
      "4:  UID:EP2504573B1     Problem:vibration deformation stress etc transferred\n",
      "3:  UID:EP2014917B1     Problem:entire generator structure subject gravity mass inertia\n",
      "3:  UID:EP2157314B2     Problem:entire generator structure subject gravity mass inertia\n",
      "3:  UID:EP2713478B1     Problem:size generator often lead problem transporting generator\n",
      "2:  UID:EP3247006B1     Problem:voltage build inner outer bearing element\n",
      "5:  UID:EP3297156A1     Problem:torque ripple control may big challenge\n",
      "3:  UID:EP3236065A1     Problem:difficult supply cooling air electric machine\n",
      "3:  UID:EP3032707A1     Problem:winding usually hotter magnet\n",
      "5:  UID:EP2378633A1     Problem:periodical torque pulsation\n",
      "2:  UID:EP2620642A1     Problem:wear seal lip\n",
      "0:  UID:EP3553920A1     Problem:carry disadvantage lamination design increase iron loss reduces output power\n",
      "3:  UID:EP3560075A1     Problem:low power factor\n",
      "2:  UID:EP3633190A1     Problem:difficult access bearing corresponding seal\n",
      "0:  UID:EP2940297A1     Problem:disadvantage\n",
      "1:  UID:EP3261209A1     Problem:nonlinear optimization problem\n",
      "3:  UID:EP3116089B1     Problem:high power ac dc converter complex large extremely heavy entity\n",
      "5:  UID:EP2508753B1     Problem:drive train requires relatively large amount space complex design\n",
      "2:  UID:EP3460272A1     Problem:conventional roller bearing suffer difficult replacement\n",
      "2:  UID:EP2378634A1     Problem:difficult expensive manufacture geometry\n",
      "5:  UID:EP2607684A1     Problem:gravitational force support rotation\n",
      "5:  UID:EP2573384B1     Problem:gravitational force support rotation\n",
      "3:  UID:EP2887499B1     Problem:thermal load acting respective permanent magnet material\n",
      "2:  UID:EP2626558B1     Problem:shaft fatigue\n",
      "5:  UID:EP2574774B1     Problem:gravitational force support rotation\n",
      "3:  UID:EP2645534B1     Problem:thermal load acting respective permanent magnet material\n",
      "5:  UID:EP2605371B1     Problem:cogging torque\n",
      "0:  UID:EP3485163B1     Problem:corrosion\n",
      "4:  UID:EP2757663A1     Problem:noise vibration problem\n",
      "3:  UID:EP2403108A1     Problem:providing efficient cooling component within nacelle\n",
      "4:  UID:EP3456961A1     Problem:excess vibration problem\n",
      "3:  UID:EP3054565A1     Problem:insufficient cooling winding\n",
      "3:  UID:EP2800898B1     Problem:power reduction\n",
      "5:  UID:EP2918824B1     Problem:frequency drop spike\n"
     ]
    }
   ],
   "source": [
    "labels_out = clustering.k_means_labels(uid_problem_pair)"
   ]
  },
  {
   "cell_type": "code",
   "execution_count": 24,
   "metadata": {
    "colab": {
     "base_uri": "https://localhost:8080/",
     "height": 300
    },
    "executionInfo": {
     "elapsed": 499,
     "status": "ok",
     "timestamp": 1635094668142,
     "user": {
      "displayName": "Ratul Rashid",
      "photoUrl": "https://lh3.googleusercontent.com/a-/AOh14GgpHTdFkEyevPZKaoWAwBI68xD3YEZYfJwE4Tdmhw=s64",
      "userId": "04963861650832575909"
     },
     "user_tz": 240
    },
    "id": "vc8GJgbKPHHa",
    "outputId": "24fc2dd4-3dfe-42d1-8f89-037cd3f546c9"
   },
   "outputs": [
    {
     "name": "stdout",
     "output_type": "stream",
     "text": [
      "Scatter plot for records whose uid start with EP\n",
      "\n",
      "Records with their respective cluster labels are plotted using a Scatter plot.\n",
      "For dimentionality reduction of matrix containing sentence embeddings, we have used Principal Component Analysis.\n",
      " X denotes cluster centers in the scatter plot.\n"
     ]
    },
    {
     "data": {
      "image/png": "[encoded data removed]",
      "text/plain": [
       "<Figure size 432x288 with 1 Axes>"
      ]
     },
     "metadata": {
      "needs_background": "light"
     },
     "output_type": "display_data"
    }
   ],
   "source": [
    "clustering.k_means_clustering(labels = labels_out[0], clf = labels_out[1])"
   ]
  },
  {
   "cell_type": "markdown",
   "metadata": {
    "id": "dgwciQgXbCGf"
   },
   "source": [
    "##The next four blocks corresponds to showing dendogram, extracted_problems and their cluster numbers and a scatter plot of K-means clustering for uids staring with US. "
   ]
  },
  {
   "cell_type": "code",
   "execution_count": 25,
   "metadata": {
    "colab": {
     "base_uri": "https://localhost:8080/"
    },
    "executionInfo": {
     "elapsed": 13213,
     "status": "ok",
     "timestamp": 1635094754970,
     "user": {
      "displayName": "Ratul Rashid",
      "photoUrl": "https://lh3.googleusercontent.com/a-/AOh14GgpHTdFkEyevPZKaoWAwBI68xD3YEZYfJwE4Tdmhw=s64",
      "userId": "04963861650832575909"
     },
     "user_tz": 240
    },
    "id": "puu2qdjGPKBX",
    "outputId": "e27a25f5-f20c-40d3-c7ec-0d75a5ccc8b3"
   },
   "outputs": [
    {
     "name": "stdout",
     "output_type": "stream",
     "text": [
      "Number of records under uid starting with US is 43\n",
      "Shape of 43 embedded sentences is (43, 768)\n"
     ]
    }
   ],
   "source": [
    "embed = Sentence_Embedding(df, 'US', 'mpnet')\n",
    "uid_problem_pair = embed.uid_problem_pair()\n",
    "uid_sentence_embed_pair = embed.sentence_embed(uid_problem_pair)"
   ]
  },
  {
   "cell_type": "code",
   "execution_count": 26,
   "metadata": {
    "colab": {
     "base_uri": "https://localhost:8080/",
     "height": 1000
    },
    "executionInfo": {
     "elapsed": 275,
     "status": "ok",
     "timestamp": 1635094755232,
     "user": {
      "displayName": "Ratul Rashid",
      "photoUrl": "https://lh3.googleusercontent.com/a-/AOh14GgpHTdFkEyevPZKaoWAwBI68xD3YEZYfJwE4Tdmhw=s64",
      "userId": "04963861650832575909"
     },
     "user_tz": 240
    },
    "id": "yvBf-2gUPRHj",
    "outputId": "73763177-322a-4d66-915c-45e46d43a78c"
   },
   "outputs": [
    {
     "name": "stdout",
     "output_type": "stream",
     "text": [
      "Hierarchical clustering of records whose uid start with US\n"
     ]
    },
    {
     "data": {
      "image/png": "[encoded data removed]",
      "text/plain": [
       "<Figure size 1440x1440 with 1 Axes>"
      ]
     },
     "metadata": {
      "needs_background": "light"
     },
     "output_type": "display_data"
    }
   ],
   "source": [
    "clustering = Clustering_Visualization(uid_sentence_embed_pair)\n",
    "clustering.dendrogram_draw()"
   ]
  },
  {
   "cell_type": "code",
   "execution_count": 27,
   "metadata": {
    "colab": {
     "base_uri": "https://localhost:8080/"
    },
    "executionInfo": {
     "elapsed": 242,
     "status": "ok",
     "timestamp": 1635094762916,
     "user": {
      "displayName": "Ratul Rashid",
      "photoUrl": "https://lh3.googleusercontent.com/a-/AOh14GgpHTdFkEyevPZKaoWAwBI68xD3YEZYfJwE4Tdmhw=s64",
      "userId": "04963861650832575909"
     },
     "user_tz": 240
    },
    "id": "YFAj-AwUPe4_",
    "outputId": "061b108b-df83-4530-e132-8ba7e96e4eeb"
   },
   "outputs": [
    {
     "name": "stdout",
     "output_type": "stream",
     "text": [
      "Printing the cluster labels for all the records whose uid start with US total record number under this category is 43\n",
      "\n",
      "[1 0 4 0 2 3 3 2 2 2 1 3 4 1 0 3 1 0 2 0 3 0 1 1 2 2 4 4 4 1 3 4 1 1 4 0 4\n",
      " 4 4 4 4 0 4]\n",
      "1:  UID:US20200059181A1     Problem:vibration noise\n",
      "0:  UID:US8629596B2     Problem:make laying form wound coil slot difficult\n",
      "4:  UID:US9698653B2     Problem:large gastoair gastowater heat exchanger needed\n",
      "0:  UID:US20140314580A1     Problem:difficult iron casted one piece\n",
      "2:  UID:US20140193264A1     Problem:pad used cylindrical bearing surface large heavy difficult exchange\n",
      "3:  UID:US8084876B2     Problem:transport generator construction site\n",
      "3:  UID:US8994200B2     Problem:wind turbine generator response grid requirement\n",
      "2:  UID:US9797378B2     Problem:pad used cylindrical bearing surface large heavy difficult exchange\n",
      "2:  UID:US10374538B2     Problem:introduction filter may tend undermine system stability\n",
      "2:  UID:US9906099B2     Problem:mechanical brake system\n",
      "1:  UID:US20190273457A1     Problem:noise vibration issue\n",
      "3:  UID:US9287747B2     Problem:failure wind power generator\n",
      "4:  UID:US8941253B2     Problem:rotor blade least partially covered ice usually tend stall\n",
      "1:  UID:US9601974B2     Problem:physical dimension weight large generator pose problem\n",
      "0:  UID:US8217546B2     Problem:difficult expensive\n",
      "3:  UID:US8866323B2     Problem:operation wind turbine particular regarding recovery normal operation\n",
      "1:  UID:US6933704B2     Problem:bowing\n",
      "0:  UID:US8436486B2     Problem:avoiding damaging deformation geneartor unit\n",
      "2:  UID:US10454342B2     Problem:comparatively small diameter brake disk part annular device\n",
      "0:  UID:US9537374B2     Problem:high degree cost complexity\n",
      "3:  UID:US10570881B2     Problem:controlling speed wind turbine rotor may difficult problematic\n",
      "0:  UID:US8558405B2     Problem:difficult filter\n",
      "1:  UID:US10316826B2     Problem:high torque\n",
      "1:  UID:US9948103B2     Problem:optimization\n",
      "2:  UID:US6777841B2     Problem:moisture entered freezing cryogenic medium supply line required\n",
      "2:  UID:US6628005B2     Problem:blading mechanical fatigue\n",
      "4:  UID:US8558423B2     Problem:overheating\n",
      "4:  UID:US10006442B2     Problem:providing installation space problematic\n",
      "4:  UID:US9593672B2     Problem:uncontrollable reactive power consumption\n",
      "1:  UID:US9551325B2     Problem:heavier bolt needed wind turbine installation time needed tightening bolt\n",
      "3:  UID:US9178357B2     Problem:transmission ac power long distance\n",
      "4:  UID:US20130027994A1     Problem:uncontrollable reactive power consumption\n",
      "1:  UID:US9605656B2     Problem:cogging torque\n",
      "1:  UID:US8643208B2     Problem:torque ripple\n",
      "4:  UID:US9803694B2     Problem:inner ring bearing heat expands\n",
      "0:  UID:US10677226B2     Problem:corrosion\n",
      "4:  UID:US20110285142A1     Problem:poor heat transfer coefficient\n",
      "4:  UID:US20110285140A1     Problem:poor heat transfer coefficient\n",
      "4:  UID:US20190277263A1     Problem:moisture airborne particle air cause damage generator\n",
      "4:  UID:US20200116133A1     Problem:failure one fan significantly reduce cooling capacity\n",
      "4:  UID:US8729750B2     Problem:high pressure loss gaseous cooling medium\n",
      "0:  UID:US9531240B2     Problem:structure complex expensive\n",
      "4:  UID:US9190845B2     Problem:uncontrollable reactive power consumption\n"
     ]
    }
   ],
   "source": [
    "labels_out = clustering.k_means_labels(uid_problem_pair)"
   ]
  },
  {
   "cell_type": "code",
   "execution_count": 28,
   "metadata": {
    "colab": {
     "base_uri": "https://localhost:8080/",
     "height": 298
    },
    "executionInfo": {
     "elapsed": 216,
     "status": "ok",
     "timestamp": 1635094786609,
     "user": {
      "displayName": "Ratul Rashid",
      "photoUrl": "https://lh3.googleusercontent.com/a-/AOh14GgpHTdFkEyevPZKaoWAwBI68xD3YEZYfJwE4Tdmhw=s64",
      "userId": "04963861650832575909"
     },
     "user_tz": 240
    },
    "id": "mZarp5A3PhNq",
    "outputId": "f7553c72-412e-4323-d3f3-9538afd4ac26"
   },
   "outputs": [
    {
     "name": "stdout",
     "output_type": "stream",
     "text": [
      "Scatter plot for records whose uid start with US\n",
      "\n",
      "Records with their respective cluster labels are plotted using a Scatter plot.\n",
      "For dimentionality reduction of matrix containing sentence embeddings, we have used Principal Component Analysis.\n",
      " X denotes cluster centers in the scatter plot.\n"
     ]
    },
    {
     "data": {
      "image/png": "[encoded data removed]",
      "text/plain": [
       "<Figure size 432x288 with 1 Axes>"
      ]
     },
     "metadata": {
      "needs_background": "light"
     },
     "output_type": "display_data"
    }
   ],
   "source": [
    "clustering.k_means_clustering(labels = labels_out[0], clf = labels_out[1])"
   ]
  },
  {
   "cell_type": "markdown",
   "metadata": {
    "id": "-360i35CbGzE"
   },
   "source": [
    "##The next four blocks corresponds to showing dendogram, extracted_problems and their cluster numbers and a scatter plot of K-means clustering for uids staring with JP. "
   ]
  },
  {
   "cell_type": "code",
   "execution_count": 29,
   "metadata": {
    "colab": {
     "base_uri": "https://localhost:8080/"
    },
    "executionInfo": {
     "elapsed": 7934,
     "status": "ok",
     "timestamp": 1635095011184,
     "user": {
      "displayName": "Ratul Rashid",
      "photoUrl": "https://lh3.googleusercontent.com/a-/AOh14GgpHTdFkEyevPZKaoWAwBI68xD3YEZYfJwE4Tdmhw=s64",
      "userId": "04963861650832575909"
     },
     "user_tz": 240
    },
    "id": "FdLTnsTbPnAw",
    "outputId": "9ab76270-e80d-4cd4-a6b8-86db34ab6c60"
   },
   "outputs": [
    {
     "name": "stdout",
     "output_type": "stream",
     "text": [
      "Number of records under uid starting with JP is 9\n",
      "Shape of 9 embedded sentences is (9, 768)\n"
     ]
    }
   ],
   "source": [
    "embed = Sentence_Embedding(df, 'JP', 'mpnet')\n",
    "uid_problem_pair = embed.uid_problem_pair()\n",
    "uid_sentence_embed_pair = embed.sentence_embed(uid_problem_pair)"
   ]
  },
  {
   "cell_type": "code",
   "execution_count": 30,
   "metadata": {
    "colab": {
     "base_uri": "https://localhost:8080/",
     "height": 1000
    },
    "executionInfo": {
     "elapsed": 512,
     "status": "ok",
     "timestamp": 1635095056965,
     "user": {
      "displayName": "Ratul Rashid",
      "photoUrl": "https://lh3.googleusercontent.com/a-/AOh14GgpHTdFkEyevPZKaoWAwBI68xD3YEZYfJwE4Tdmhw=s64",
      "userId": "04963861650832575909"
     },
     "user_tz": 240
    },
    "id": "yaVgIeUcQQCk",
    "outputId": "8bd080b6-e231-44fb-a409-58814685ed35"
   },
   "outputs": [
    {
     "name": "stdout",
     "output_type": "stream",
     "text": [
      "Hierarchical clustering of records whose uid start with JP\n"
     ]
    },
    {
     "data": {
      "image/png": "[encoded data removed]",
      "text/plain": [
       "<Figure size 1440x1440 with 1 Axes>"
      ]
     },
     "metadata": {
      "needs_background": "light"
     },
     "output_type": "display_data"
    }
   ],
   "source": [
    "clustering = Clustering_Visualization(uid_sentence_embed_pair)\n",
    "clustering.dendrogram_draw()"
   ]
  },
  {
   "cell_type": "code",
   "execution_count": 31,
   "metadata": {
    "colab": {
     "base_uri": "https://localhost:8080/"
    },
    "executionInfo": {
     "elapsed": 212,
     "status": "ok",
     "timestamp": 1635095065980,
     "user": {
      "displayName": "Ratul Rashid",
      "photoUrl": "https://lh3.googleusercontent.com/a-/AOh14GgpHTdFkEyevPZKaoWAwBI68xD3YEZYfJwE4Tdmhw=s64",
      "userId": "04963861650832575909"
     },
     "user_tz": 240
    },
    "id": "AMWDpjj7Qo75",
    "outputId": "684a13b0-fdd3-4ff2-8830-fa82c5570c31"
   },
   "outputs": [
    {
     "name": "stdout",
     "output_type": "stream",
     "text": [
      "Printing the cluster labels for all the records whose uid start with JP total record number under this category is 9\n",
      "\n",
      "[1 0 0 1 0 0 1 0 1]\n",
      "1:  UID:JP2012516666A     Problem:wind generator response utility network demand usually black box\n",
      "0:  UID:JP2010148350A     Problem:stability problem\n",
      "0:  UID:JP2003143899A     Problem:drawback associated slip ring occur\n",
      "1:  UID:JP5773621B2     Problem:provide advantageous generator\n",
      "0:  UID:JP2012092970A     Problem:large looseness bearing problem side smear promote roller adhesive wear\n",
      "0:  UID:JP6124508B2     Problem:inner ring bearing heated expands\n",
      "1:  UID:JP4073956B2     Problem:control system controlling rotational speed power generation turbine\n",
      "0:  UID:JP2011152035A     Problem:cogging torque\n",
      "1:  UID:JP2001526357A     Problem:power generation performed chimney effect passage\n"
     ]
    }
   ],
   "source": [
    "labels_out = clustering.k_means_labels(uid_problem_pair)"
   ]
  },
  {
   "cell_type": "code",
   "execution_count": 32,
   "metadata": {
    "colab": {
     "base_uri": "https://localhost:8080/",
     "height": 332
    },
    "executionInfo": {
     "elapsed": 269,
     "status": "ok",
     "timestamp": 1635095082240,
     "user": {
      "displayName": "Ratul Rashid",
      "photoUrl": "https://lh3.googleusercontent.com/a-/AOh14GgpHTdFkEyevPZKaoWAwBI68xD3YEZYfJwE4Tdmhw=s64",
      "userId": "04963861650832575909"
     },
     "user_tz": 240
    },
    "id": "PqTusiExQrNg",
    "outputId": "1d6bf36e-a1db-49f5-c7de-6f6ca9168dd0"
   },
   "outputs": [
    {
     "name": "stdout",
     "output_type": "stream",
     "text": [
      "Scatter plot for records whose uid start with JP\n",
      "\n",
      "Records with their respective cluster labels are plotted using a Scatter plot.\n",
      "For dimentionality reduction of matrix containing sentence embeddings, we have used Principal Component Analysis.\n",
      " X denotes cluster centers in the scatter plot.\n"
     ]
    },
    {
     "data": {
      "image/png": "[encoded data removed]",
      "text/plain": [
       "<Figure size 432x288 with 1 Axes>"
      ]
     },
     "metadata": {
      "needs_background": "light"
     },
     "output_type": "display_data"
    }
   ],
   "source": [
    "clustering.k_means_clustering(labels = labels_out[0], clf = labels_out[1])"
   ]
  },
  {
   "cell_type": "code",
   "execution_count": null,
   "metadata": {
    "id": "jVXUKhrNQvKm"
   },
   "outputs": [],
   "source": []
  }
 ],
 "metadata": {
  "colab": {
   "authorship_tag": "ABX9TyNhDg6JrAaqIsDbWdcVvG0z",
   "collapsed_sections": [],
   "name": "problem_clustering_class.ipynb",
   "provenance": [
    {
     "file_id": "1MTgUcLcYwUePEeHeOKUoIhe8UCCri_On",
     "timestamp": 1635048048522
    }
   ]
  },
  "kernelspec": {
   "display_name": "newres",
   "language": "python",
   "name": "newres"
  },
  "language_info": {
   "codemirror_mode": {
    "name": "ipython",
    "version": 3
   },
   "file_extension": ".py",
   "mimetype": "text/x-python",
   "name": "python",
   "nbconvert_exporter": "python",
   "pygments_lexer": "ipython3",
   "version": "3.7.10"
  }
 },
 "nbformat": 4,
 "nbformat_minor": 1
}
